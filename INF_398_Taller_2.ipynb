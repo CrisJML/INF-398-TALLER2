{
 "cells": [
  {
   "cell_type": "markdown",
   "metadata": {},
   "source": [
    "# TALLER 2"
   ]
  },
  {
   "cell_type": "markdown",
   "metadata": {},
   "source": [
    "Integrantes:\n",
    "Natalia Barraza, Cristian Marin"
   ]
  },
  {
   "cell_type": "markdown",
   "metadata": {},
   "source": [
    "## Cargado de Datos"
   ]
  },
  {
   "cell_type": "code",
   "execution_count": 1,
   "metadata": {},
   "outputs": [],
   "source": [
    "import pandas as pd\n",
    "train_df = pd.read_csv('house_price_train.csv')\n",
    "test_df = pd.read_csv('house_price_test.csv')"
   ]
  },
  {
   "cell_type": "markdown",
   "metadata": {},
   "source": [
    "### PARTE 1\n"
   ]
  },
  {
   "cell_type": "markdown",
   "metadata": {},
   "source": [
    "#### La pregunta de investigación que escogimos es la número 1: \n",
    "\n",
    "**Regresión Lineal:** Expandir un modelo de regresión lineal con características polinomiales reduce siempre el error de entrenamiento pero no necesariamente el error de predicción.\n",
    "La regresión polinomial es un tipo de Modelo de Regresión donde la predicción depende polinomialmente de cada característica. Si se tienen las características $X_1, X_2,..., X_p$, entonces la relación entre la predicción y las variables es de la siguiente forma\n",
    "\n",
    "$$ y = \\beta_0 + \\beta_{11} X_1 + .... + \\beta_{1k} X_1^k + \\beta_{21} X_2 + .... + \\beta_{2k} X_2^k + \\beta_{p1} X_p + .... + \\beta_{pk} X_p^k $$\n",
    "\n",
    "donde k es el grado del polinomio, y $\\beta_0, \\beta_{ij}$ son reales para todo $1 \\leq i$ $\\leq p$, $1 \\leq j \\leq k$.\n",
    "\n",
    "De esta manera, una regresión polinomial tiene más complejidad en comparación a la regresión lineal, por lo tanto, a priori, nosotros creemos que siempre reduce el error de entrenamiento, pues tiene más libertad para ajustarse a estos, pero, por lo mismo, también hay más riesgo de overfitting, por lo tanto, podría aumentar el error de predicción. Así, en base a nuestros conocimientos previos, **a priori, creemos que la afirmación es correcta**. \n",
    "\n",
    "Para comprobarlo seguiremos el siguiente procedimiento: \n",
    "\n",
    "- Planteamos las hipotésis de investigación.\n",
    "\n",
    "- Seleccionamos los datasets a utilizar. \n",
    "\n",
    "- Preparamos los datos y confeccionamos un modelo lineal y otro polinomial para poder predecir los datos.\n",
    "\n",
    "- Evaluamos los modelos y analizamos los resultados.\n",
    "\n",
    "- Concluimos si es que hay suficiente evidencia para contrastar la hipótesis planteada.\n",
    "Además del procedimiento mencionado anteriormente, usando el mismo dataset de la parte de competencia, ajustaremos un modelo de regresión lineal y otro de regresión polinomial a los cuales les calcularemos el error de entrenamiento, y luego subiremos a kaggle la predicción de ambos modelos en lo datos de prueba para comparar el error de predicción que arroja (y, por lo tanto, la métrica que usaremos será la MSE). \n",
    "Datasets a utilizar\n",
    "\n",
    "- Calidad del vino.\n",
    "- Resistencia del concreto.\n",
    "- Dataset sintético con ruido aleatorio.\n",
    "Prepocesamiento de los datos\n",
    "\n",
    "- Para nuestros datos distintos al de competencia ya tenemos que son todos datos numéricos y por temas de tiempo no realizaremos mayores ajustes.\n"
   ]
  },
  {
   "cell_type": "markdown",
   "metadata": {},
   "source": [
    "Librerías\n"
   ]
  },
  {
   "cell_type": "code",
   "execution_count": 2,
   "metadata": {},
   "outputs": [],
   "source": [
    "import pandas as pd\n",
    "import numpy as np\n",
    "from sklearn.model_selection import train_test_split\n",
    "from sklearn.linear_model import LinearRegression\n",
    "from sklearn.preprocessing import PolynomialFeatures\n",
    "from sklearn.model_selection import train_test_split\n",
    "from sklearn.metrics import mean_squared_error\n",
    "import matplotlib.pyplot as plt\n",
    "from datetime import datetime"
   ]
  },
  {
   "cell_type": "markdown",
   "metadata": {},
   "source": [
    "Importación de los dataset\n"
   ]
  },
  {
   "cell_type": "code",
   "execution_count": 4,
   "metadata": {},
   "outputs": [],
   "source": [
    "wine = pd.read_csv('WineQT.csv')\n",
    "concrete = pd.read_csv('Concrete_Data_Yeh.csv')\n",
    "\n",
    "# Función para generar dataset sintético\n",
    "def generate_synthetic_data(n_samples=100):\n",
    "    np.random.seed(0)\n",
    "    X = np.random.rand(n_samples, 1) * 10\n",
    "    y = 4*X**3 + 2*X**2 + X + np.random.randn(n_samples, 1) * 10\n",
    "    return X, y"
   ]
  },
  {
   "cell_type": "code",
   "execution_count": 5,
   "metadata": {},
   "outputs": [
    {
     "name": "stdout",
     "output_type": "stream",
     "text": [
      "Dataset: csMPa\n",
      "Train Error (Linear): 107.23993872814275\n",
      "Train Error (Polynomial): 51.611651088924106\n",
      "Test Error (Linear): 109.75080797014401\n",
      "Test Error (Polynomial): 60.03509774223802\n",
      "---\n",
      "Dataset: quality\n",
      "Train Error (Linear): 0.4170621696063996\n",
      "Train Error (Polynomial): 0.37233161768225165\n",
      "Test Error (Linear): 0.38766140086478884\n",
      "Test Error (Polynomial): 0.4602891296678948\n",
      "---\n",
      "Dataset: Synthetic\n",
      "Train Error (Linear): 237375.32740812335\n",
      "Train Error (Polynomial): 106.97869193288588\n",
      "Test Error (Linear): 220145.0615456631\n",
      "Test Error (Polynomial): 75.10026718210115\n"
     ]
    }
   ],
   "source": [
    "# Modelo y evaluación \n",
    "\n",
    "# Dividir y preprocesar datasets\n",
    "def preprocess_and_split(data, target_column):\n",
    "    X = data.drop(columns=[target_column])\n",
    "    y = data[target_column]\n",
    "    return train_test_split(X, y, test_size=0.3, random_state=42)\n",
    "\n",
    "datasets = [\n",
    "    (concrete, 'csMPa'),  # Nombre de la columna objetivo en el dataset de Boston\n",
    "    (wine, 'quality')  # Nombre de la columna objetivo en el dataset de Vino\n",
    "]\n",
    "\n",
    "# Evaluar cada dataset\n",
    "for data, target in datasets:\n",
    "    X_train, X_test, y_train, y_test = preprocess_and_split(data, target)\n",
    "    \n",
    "    # Modelo Lineal Básico\n",
    "    lin_reg = LinearRegression()\n",
    "    lin_reg.fit(X_train, y_train)\n",
    "    y_train_pred = lin_reg.predict(X_train)\n",
    "    y_test_pred = lin_reg.predict(X_test)\n",
    "    train_error_lin = mean_squared_error(y_train, y_train_pred)\n",
    "    test_error_lin = mean_squared_error(y_test, y_test_pred)\n",
    "    \n",
    "    # Modelo Polinomial\n",
    "    poly = PolynomialFeatures(degree=2)  # O probar con grado 3\n",
    "    X_train_poly = poly.fit_transform(X_train)\n",
    "    X_test_poly = poly.transform(X_test)\n",
    "    poly_reg = LinearRegression()\n",
    "    poly_reg.fit(X_train_poly, y_train)\n",
    "    y_train_pred_poly = poly_reg.predict(X_train_poly)\n",
    "    y_test_pred_poly = poly_reg.predict(X_test_poly)\n",
    "    train_error_poly = mean_squared_error(y_train, y_train_pred_poly)\n",
    "    test_error_poly = mean_squared_error(y_test, y_test_pred_poly)\n",
    "    \n",
    "    print(f'Dataset: {target}')\n",
    "    print(f'Train Error (Linear): {train_error_lin}')\n",
    "    print(f'Train Error (Polynomial): {train_error_poly}')\n",
    "    print(f'Test Error (Linear): {test_error_lin}')\n",
    "    print(f'Test Error (Polynomial): {test_error_poly}')\n",
    "    print('---')\n",
    "\n",
    "# Evaluar dataset sintético\n",
    "X_synth, y_synth = generate_synthetic_data()\n",
    "X_train_synth, X_test_synth, y_train_synth, y_test_synth = train_test_split(X_synth, y_synth, test_size=0.3, random_state=42)\n",
    "\n",
    "# Modelo Lineal Básico\n",
    "lin_reg.fit(X_train_synth, y_train_synth)\n",
    "y_train_pred_synth = lin_reg.predict(X_train_synth)\n",
    "y_test_pred_synth = lin_reg.predict(X_test_synth)\n",
    "train_error_lin_synth = mean_squared_error(y_train_synth, y_train_pred_synth)\n",
    "test_error_lin_synth = mean_squared_error(y_test_synth, y_test_pred_synth)\n",
    "\n",
    "# Modelo Polinomial\n",
    "poly = PolynomialFeatures(degree=3)\n",
    "X_train_poly_synth = poly.fit_transform(X_train_synth)\n",
    "X_test_poly_synth = poly.transform(X_test_synth)\n",
    "poly_reg.fit(X_train_poly_synth, y_train_synth)\n",
    "y_train_pred_poly_synth = poly_reg.predict(X_train_poly_synth)\n",
    "y_test_pred_poly_synth = poly_reg.predict(X_test_poly_synth)\n",
    "train_error_poly_synth = mean_squared_error(y_train_synth, y_train_pred_poly_synth)\n",
    "test_error_poly_synth = mean_squared_error(y_test_synth, y_test_pred_poly_synth)\n",
    "\n",
    "print(f'Dataset: Synthetic')\n",
    "print(f'Train Error (Linear): {train_error_lin_synth}')\n",
    "print(f'Train Error (Polynomial): {train_error_poly_synth}')\n",
    "print(f'Test Error (Linear): {test_error_lin_synth}')\n",
    "print(f'Test Error (Polynomial): {test_error_poly_synth}')"
   ]
  },
  {
   "cell_type": "markdown",
   "metadata": {},
   "source": [
    "#### Para el dataset de competencia:\n"
   ]
  },
  {
   "cell_type": "markdown",
   "metadata": {},
   "source": [
    "##### Modelo Lineal\n"
   ]
  },
  {
   "cell_type": "code",
   "execution_count": 6,
   "metadata": {},
   "outputs": [
    {
     "name": "stdout",
     "output_type": "stream",
     "text": [
      "Error cuadrático medio (entrenamiento): 61689913732.0531\n",
      "Error cuadrático medio (prueba): 81437743043.2128\n"
     ]
    },
    {
     "data": {
      "image/png": "[encoded data removed]",
      "text/plain": [
       "<Figure size 640x480 with 1 Axes>"
      ]
     },
     "metadata": {},
     "output_type": "display_data"
    }
   ],
   "source": [
    "# Obtenemos solo las características numéricas\n",
    "\n",
    "X = train_df[['bedrooms', 'bathrooms', 'sqft_living', 'sqft_lot', 'floors', 'waterfront', 'view', 'condition', 'sqft_above', 'sqft_basement', 'yr_built', 'yr_renovated']]\n",
    "y = train_df['price']\n",
    "\n",
    "X_train, X_test, y_train, y_test = train_test_split(X, y, test_size=0.2, random_state=0)\n",
    "\n",
    "# Crear y ajustar el modelo de regresión lineal\n",
    "model = LinearRegression()\n",
    "model.fit(X_train, y_train)\n",
    "\n",
    "y_train_pred = model.predict(X_train)\n",
    "\n",
    "y_test_pred = model.predict(X_test)\n",
    "\n",
    "# Evaluar el modelo en el conjunto de entrenamiento\n",
    "mse_train = mean_squared_error(y_train, y_train_pred)\n",
    "print(f\"Error cuadrático medio (entrenamiento): {mse_train:.4f}\")\n",
    "\n",
    "# Evaluar el modelo en el conjunto de prueba\n",
    "mse_test = mean_squared_error(y_test, y_test_pred)\n",
    "print(f\"Error cuadrático medio (prueba): {mse_test:.4f}\")\n",
    "\n",
    "# Graficamos predicciones vs valores reales en el conjunto de prueba\n",
    "plt.scatter(y_test, y_test_pred, color='blue', label='Predicciones vs. Valores reales')\n",
    "plt.plot([y_test.min(), y_test.max()], [y_test.min(), y_test.max()], color='red', lw=2, label='Perfecto ajuste')\n",
    "plt.xlabel('Valores reales')\n",
    "plt.ylabel('Predicciones')\n",
    "plt.legend()\n",
    "plt.show()\n",
    "\n",
    "\n",
    "#Predicción con modelo lineal para Kaggle\n",
    "y_test_lineal_kaggle = model.predict(test_df[['bedrooms', 'bathrooms', 'sqft_living', 'sqft_lot', 'floors', 'waterfront', 'view', 'condition', 'sqft_above', 'sqft_basement', 'yr_built', 'yr_renovated']])\n",
    "predicciones = pd.DataFrame({'id':test_df['id'],'price':y_test_lineal_kaggle})\n",
    "predicciones.to_csv('Predicción_modelo_lineal.csv', index=False)\n"
   ]
  },
  {
   "cell_type": "markdown",
   "metadata": {},
   "source": [
    "##### Modelo Polinomial\n"
   ]
  },
  {
   "cell_type": "code",
   "execution_count": 7,
   "metadata": {},
   "outputs": [
    {
     "name": "stdout",
     "output_type": "stream",
     "text": [
      "Error cuadrático medio (entrenamiento): 44322708804.2307\n",
      "Error cuadrático medio (prueba): 6741016191825.0078\n"
     ]
    },
    {
     "data": {
      "image/png": "[encoded data removed]",
      "text/plain": [
       "<Figure size 640x480 with 1 Axes>"
      ]
     },
     "metadata": {},
     "output_type": "display_data"
    }
   ],
   "source": [
    "# Asumiendo que new_train_df es tu DataFrame\n",
    "# Extraer características y objetivo del DataFrame\n",
    "X = train_df[['bedrooms', 'bathrooms', 'sqft_living', 'sqft_lot', 'floors', 'waterfront', 'view', 'condition', 'sqft_above', 'sqft_basement', 'yr_built', 'yr_renovated']]\n",
    "y = train_df['price']\n",
    "\n",
    "# Dividir los datos en conjuntos de entrenamiento y prueba\n",
    "X_train, X_test, y_train, y_test = train_test_split(X, y, test_size=0.2, random_state=0)\n",
    "\n",
    "# Crear un objeto PolynomialFeatures para agregar términos polinomiales\n",
    "degree = 3\n",
    "poly = PolynomialFeatures(degree=degree)\n",
    "X_train_poly = poly.fit_transform(X_train)\n",
    "X_test_poly = poly.transform(X_test)\n",
    "\n",
    "# Crear y ajustar el modelo de regresión lineal con características polinomiales\n",
    "model = LinearRegression()\n",
    "model.fit(X_train_poly, y_train)\n",
    "\n",
    "# Hacer predicciones en el conjunto de entrenamiento\n",
    "y_train_pred = model.predict(X_train_poly)\n",
    "\n",
    "# Hacer predicciones en el conjunto de prueba\n",
    "y_test_pred = model.predict(X_test_poly)\n",
    "\n",
    "# Evaluar el modelo en el conjunto de entrenamiento\n",
    "mse_train = mean_squared_error(y_train, y_train_pred)\n",
    "print(f\"Error cuadrático medio (entrenamiento): {mse_train:.4f}\")\n",
    "\n",
    "# Evaluar el modelo en el conjunto de prueba\n",
    "mse_test = mean_squared_error(y_test, y_test_pred)\n",
    "print(f\"Error cuadrático medio (prueba): {mse_test:.4f}\")\n",
    "\n",
    "# Visualizar las predicciones frente a los valores reales en el conjunto de prueba\n",
    "plt.scatter(y_test, y_test_pred, color='blue', label='Predicciones vs. Valores reales')\n",
    "plt.plot([y_test.min(), y_test.max()], [y_test.min(), y_test.max()], color='red', lw=2, label='Perfecto ajuste')\n",
    "plt.xlabel('Valores reales')\n",
    "plt.ylabel('Predicciones')\n",
    "plt.legend()\n",
    "plt.show()\n",
    "\n",
    "#Predicción con modelo polinomial para Kaggle\n",
    "X = test_df[['bedrooms', 'bathrooms', 'sqft_living', 'sqft_lot', 'floors', 'waterfront', 'view', 'condition', 'sqft_above', 'sqft_basement', 'yr_built', 'yr_renovated']]\n",
    "X=  poly.fit_transform(X)\n",
    "y_test_pol_kaggle = model.predict(X)\n",
    "predicciones2 = pd.DataFrame({'id':test_df['id'],'price':y_test_pol_kaggle})\n",
    "predicciones2.to_csv('Predicción_modelo_pol.csv', index= False)\n"
   ]
  },
  {
   "cell_type": "code",
   "execution_count": 9,
   "metadata": {},
   "outputs": [
    {
     "data": {
      "image/png": "[encoded data removed]",
      "text/plain": [
       "<IPython.core.display.Image object>"
      ]
     },
     "execution_count": 9,
     "metadata": {},
     "output_type": "execute_result"
    }
   ],
   "source": [
    "from IPython.display import Image\n",
    "Image(filename='poli.png')\n"
   ]
  },
  {
   "cell_type": "markdown",
   "metadata": {},
   "source": [
    "# Conclusión de los resultados\n",
    "Podemos observar en los resultados para el dataset del concreto, el sintético que el error de entrenamiento y el error de predicción eran menores comparados a los del modelo lineal, y para los dataset de la calidad del vino y el de competencia obtuvimos que a pesar de tener menor error de entrenmiento el modelo polinomia era mayor. Así, vemos que en todos los casos, la regresión polinomial reduce el error de entrenamiento, pero puede llegaar a ocurrir que el error de predicción sea menor, como los primeros dos casos, o que el error de predicción sea mayor, como en los útlimos casos. Así ninguno de los 4 escenarios refuta nuestra hipótesis, así que, con la información reunida anteriormente, podemos decir que nuestra hipótesis es verdadera."
   ]
  },
  {
   "cell_type": "markdown",
   "metadata": {},
   "source": [
    "### PARTE 2: COMPETENCIA"
   ]
  },
  {
   "cell_type": "markdown",
   "metadata": {},
   "source": [
    "### Librerías Importadas"
   ]
  },
  {
   "cell_type": "code",
   "execution_count": 10,
   "metadata": {},
   "outputs": [],
   "source": [
    "import numpy as np\n",
    "import pandas as pd\n",
    "from sklearn.model_selection import train_test_split\n",
    "from sklearn.linear_model import LinearRegression\n",
    "from sklearn.preprocessing import PolynomialFeatures\n",
    "from sklearn.preprocessing import StandardScaler\n",
    "from sklearn.linear_model import LassoLarsCV\n",
    "from sklearn.linear_model import Lasso\n",
    "from sklearn.pipeline import Pipeline\n",
    "from sklearn.model_selection import train_test_split\n",
    "from sklearn.metrics import mean_squared_error\n",
    "import matplotlib.pyplot as plt\n",
    "from sklearn.model_selection import GridSearchCV\n",
    "from sklearn.feature_selection import f_regression\n",
    "from datetime import datetime\n",
    "import seaborn as sns; sns.set()\n",
    "from matplotlib import rcParams\n",
    "from sklearn.preprocessing import OneHotEncoder\n",
    "import warnings\n",
    "warnings.filterwarnings(\"ignore\")"
   ]
  },
  {
   "cell_type": "markdown",
   "metadata": {},
   "source": [
    "### Cargado y Análisis de Datos"
   ]
  },
  {
   "cell_type": "code",
   "execution_count": 11,
   "metadata": {},
   "outputs": [],
   "source": [
    "train_df = pd.read_csv('house_price_train.csv')\n",
    "test_df = pd.read_csv('house_price_test.csv')"
   ]
  },
  {
   "cell_type": "markdown",
   "metadata": {},
   "source": [
    "#### Modificaciones a las características"
   ]
  },
  {
   "cell_type": "code",
   "execution_count": 12,
   "metadata": {},
   "outputs": [],
   "source": [
    "new_train_df = train_df.copy()\n",
    "new_train_df = new_train_df.drop('id', axis=1)"
   ]
  },
  {
   "cell_type": "markdown",
   "metadata": {},
   "source": [
    "Nos quedamos solo con la fecha, sin la hora, y creamos las columnas 'año', 'mes' y 'día' para analizarlas"
   ]
  },
  {
   "cell_type": "code",
   "execution_count": 13,
   "metadata": {},
   "outputs": [
    {
     "name": "stdout",
     "output_type": "stream",
     "text": [
      "Note que se analizan las ventas de un mismo año:  [2014]\n",
      "Además, el día es muy específico, (es muy corta la cantidad de tiempo) y no nos entrega información de la época en que se vende, pues los números de los días se repiten todos los meses. Así, nos quedaremos solo con el mes porque, como es uno el año a analizar, el mes nos entrega información\n"
     ]
    }
   ],
   "source": [
    "new_train_df.loc[:, 'date'] = new_train_df['date'].apply(lambda x: datetime.strptime(x, \"%Y-%m-%d %H:%M:%S\").date())\n",
    "test_df.loc[:, 'date'] = test_df['date'].apply(lambda x: datetime.strptime(x, \"%Y-%m-%d %H:%M:%S\").date())\n",
    "\n",
    "new_train_df.insert(2, 'year', new_train_df['date'].apply(lambda x: x.year))\n",
    "new_train_df.insert(2, 'month', new_train_df['date'].apply(lambda x: x.month))\n",
    "new_train_df.insert(2, 'day', new_train_df['date'].apply(lambda x: x.day))\n",
    "test_df.insert(2, 'year', test_df['date'].apply(lambda x: x.year))\n",
    "test_df.insert(2, 'month', test_df['date'].apply(lambda x: x.month))\n",
    "test_df.insert(2, 'day', test_df['date'].apply(lambda x: x.day))\n",
    "\n",
    "new_train_df = new_train_df.drop('date', axis=1)\n",
    "test_df = test_df.drop('date', axis=1)\n",
    "\n",
    "print('Note que se analizan las ventas de un mismo año: ', new_train_df['year'].unique())\n",
    "\n",
    "new_train_df = new_train_df.drop('year', axis = 1)\n",
    "test_df = test_df.drop('year', axis = 1)\n",
    "\n",
    "print('Además, el día es muy específico, (es muy corta la cantidad de tiempo) y no nos entrega información de la época en que se vende, pues los números de los días se repiten todos los meses. Así, nos quedaremos solo con el mes porque, como es uno el año a analizar, el mes nos entrega información')\n",
    "\n",
    "new_train_df = new_train_df.drop('day', axis=1)\n",
    "test_df = test_df.drop('day', axis = 1)"
   ]
  },
  {
   "cell_type": "markdown",
   "metadata": {},
   "source": [
    "Note que todos quedan en el país USA, así que quitaremos esa columna. Además, el nombre de la calle es demasiado específico, por lo tanto, si le damos valores numéricos, el valor de cada registro sería diferente, por lo tanto, no entrega mucha información. Además, creemos que, statezip es suficiente para representar cada calle y ciudad, pues es un punto medio. Por lo anterior, nos quedaremos solo con la parte numérica de statezip pues todos empiezan con las mismas letras."
   ]
  },
  {
   "cell_type": "code",
   "execution_count": 14,
   "metadata": {},
   "outputs": [],
   "source": [
    "#Eliminamos la columna country, street y city\n",
    "new_train_df = new_train_df.drop('country', axis=1)\n",
    "new_train_df = new_train_df.drop('street', axis=1)\n",
    "new_train_df = new_train_df.drop('city', axis=1)\n",
    "test_df = test_df.drop('country', axis=1)\n",
    "test_df = test_df.drop('street', axis=1)\n",
    "test_df = test_df.drop('city', axis=1)\n",
    "\n",
    "price = new_train_df['price']\n",
    "\n",
    "#Definimos una nueva columna llamada zipcode solo con la información numérica de statezip. \n",
    "new_train_df['zipcode'] = new_train_df['statezip'].str.extract(r'(\\d{5})')\n",
    "new_train_df['zipcode'] = new_train_df['zipcode'].astype(int)\n",
    "test_df['zipcode'] = test_df['statezip'].str.extract(r'(\\d{5})')\n",
    "test_df['zipcode'] = test_df['zipcode'].astype(int)\n",
    "\n",
    "#Eliminamos la columna statezip\n",
    "new_train_df = new_train_df.drop('statezip', axis=1)\n",
    "test_df = test_df.drop('statezip', axis = 1)\n",
    "\n",
    "new_train_df = new_train_df.drop('price', axis=1)\n",
    "new_train_df['price'] = price\n",
    "\n",
    "new_train_df['zipcode'] = new_train_df['zipcode'].astype(int)\n"
   ]
  },
  {
   "cell_type": "markdown",
   "metadata": {},
   "source": [
    "Vemos la cantidad de veces que aparece un precio en el df"
   ]
  },
  {
   "cell_type": "code",
   "execution_count": 15,
   "metadata": {},
   "outputs": [
    {
     "name": "stdout",
     "output_type": "stream",
     "text": [
      "price\n",
      "0.0          40\n",
      "300000.0     35\n",
      "400000.0     28\n",
      "440000.0     25\n",
      "475000.0     25\n",
      "             ..\n",
      "416286.0      1\n",
      "415500.0      1\n",
      "414000.0      1\n",
      "413500.0      1\n",
      "7062500.0     1\n",
      "Name: count, Length: 1514, dtype: int64\n"
     ]
    }
   ],
   "source": [
    "price_counts = train_df.sort_values(by='price')['price'].value_counts()\n",
    "print(price_counts)"
   ]
  },
  {
   "cell_type": "markdown",
   "metadata": {},
   "source": [
    "Dado el contexto del problema, es raro que el valor de una vivienda sea 0, si se está ofreciendo a la venta, así que se para todos los modelos que ajustemos, se irán comparando los resultaods quitando esos registros y dejándolos."
   ]
  },
  {
   "cell_type": "code",
   "execution_count": 16,
   "metadata": {},
   "outputs": [],
   "source": [
    "new_train_df_sin_0 = (new_train_df[~(new_train_df['price'] == 0)])"
   ]
  },
  {
   "cell_type": "markdown",
   "metadata": {},
   "source": [
    "#### Se definen los atributos que se tienen inicialmente."
   ]
  },
  {
   "cell_type": "code",
   "execution_count": 17,
   "metadata": {},
   "outputs": [],
   "source": [
    "atributos = list(new_train_df.columns)\n",
    "atributos.remove('price')"
   ]
  },
  {
   "cell_type": "markdown",
   "metadata": {},
   "source": [
    "#### Modelos (sin Ingeniería de Atributos)"
   ]
  },
  {
   "cell_type": "markdown",
   "metadata": {},
   "source": [
    "##### Regresión Lineal"
   ]
  },
  {
   "cell_type": "code",
   "execution_count": 18,
   "metadata": {},
   "outputs": [
    {
     "name": "stdout",
     "output_type": "stream",
     "text": [
      "Error cuadrático medio (prueba) considerando los 0: 81378887074.2281\n",
      "Error cuadrático medio (prueba) sin considerar los 0: 84645096862.9027\n"
     ]
    }
   ],
   "source": [
    "#Datos \n",
    "X = new_train_df[atributos]\n",
    "y = new_train_df['price']\n",
    "\n",
    "X_sin_0 = new_train_df_sin_0[atributos]\n",
    "y_sin_0 = new_train_df_sin_0['price']\n",
    "\n",
    "X_test_kaggle = test_df[atributos]\n",
    "\n",
    "X_train, X_test, y_train, y_test = train_test_split(X, y, test_size=0.2, random_state=0)\n",
    "X_train_s0, X_test_s0, y_train_s0, y_test_s0 = train_test_split(X_sin_0, y_sin_0, test_size=0.2, random_state=0)\n",
    "\n",
    "# Crear y ajustar el modelo de regresión lineal\n",
    "model = LinearRegression()\n",
    "model.fit(X_train, y_train)\n",
    "\n",
    "model_s0 = LinearRegression()\n",
    "model_s0.fit(X_sin_0, y_sin_0)\n",
    "\n",
    "y_test_pred = model.predict(X_test)\n",
    "y_test_pred_s0 = model.predict(X_test_s0)\n",
    "\n",
    "# Evaluar el modelo en el conjunto de prueba\n",
    "mse_test = mean_squared_error(y_test, y_test_pred)\n",
    "mse_test_s0 =mean_squared_error(y_test_s0, y_test_pred_s0)\n",
    "print(f\"Error cuadrático medio (prueba) considerando los 0: {mse_test:.4f}\")\n",
    "print(f\"Error cuadrático medio (prueba) sin considerar los 0: {mse_test_s0:.4f}\")\n",
    "\n",
    "#Predecimos el test con el que tuvo mejor performance y generamos el archivo para subirlo a kaggle\n",
    "\n",
    "model.fit(X,y)\n",
    "y_test_kaggle = model.predict(X_test_kaggle)\n",
    "predicciones = pd.DataFrame({'id':test_df['id'],'price':y_test_kaggle})\n",
    "predicciones.to_csv('Predicción1.csv', index= False)\n",
    "\n",
    "model_s0.fit(X_sin_0, y_sin_0)\n",
    "y_test_kaggle = model_s0.predict(X_test_kaggle)\n",
    "predicciones = pd.DataFrame({'id':test_df['id'],'price':y_test_kaggle})\n",
    "predicciones.to_csv('Predicción2.csv', index= False)"
   ]
  },
  {
   "cell_type": "markdown",
   "metadata": {},
   "source": [
    "##### Lasso"
   ]
  },
  {
   "cell_type": "code",
   "execution_count": 19,
   "metadata": {},
   "outputs": [
    {
     "name": "stdout",
     "output_type": "stream",
     "text": [
      "Best alpha:  1.0\n",
      "Best alpha sin considerar los 0:  0.47148663634573895\n",
      "Mean Squared Error with best alpha:  81379421682.60559\n",
      "Mean Squared Error with best alpha sin considerar los 0:  81014211693.76732\n"
     ]
    }
   ],
   "source": [
    "X = new_train_df[atributos]\n",
    "y = new_train_df['price']\n",
    "\n",
    "X_sin_0 = new_train_df_sin_0[atributos]\n",
    "y_sin_0 = new_train_df_sin_0['price']\n",
    "\n",
    "X_test_kaggle = test_df[atributos]\n",
    "\n",
    "# Escala las características\n",
    "scaler = StandardScaler()\n",
    "X_processed = pd.DataFrame(scaler.fit_transform(X), columns=X.columns)\n",
    "X_sin_0_processed = pd.DataFrame(scaler.fit_transform(X_sin_0), columns=X_sin_0.columns)\n",
    "X_test_processed = pd.DataFrame(scaler.fit_transform(X_test_kaggle), columns=X_test_kaggle.columns)\n",
    "\n",
    "# Divide los datos en conjuntos de entrenamiento y prueba\n",
    "\n",
    "X = X_processed.copy()\n",
    "y = new_train_df['price']\n",
    "X_train, X_test, y_train, y_test = train_test_split(X, y, test_size=0.2, random_state=0)\n",
    "\n",
    "X_sin_0 = X_sin_0_processed.copy()\n",
    "y_sin_0 = new_train_df_sin_0['price']\n",
    "X_train_s0, X_test_s0, y_train_s0, y_test_s0 = train_test_split(X_sin_0, y_sin_0, test_size=0.2, random_state=0)\n",
    "\n",
    "X_test_kaggle = X_test_processed.copy()\n",
    "\n",
    "param_grid = {'alpha': np.logspace(-4, 0, 50)}\n",
    "\n",
    "# Realiza una búsqueda en la cuadrícula con validación cruzada\n",
    "grid = GridSearchCV(Lasso(max_iter=10000), param_grid, cv=5, scoring='neg_mean_squared_error')\n",
    "grid.fit(X_train, y_train)\n",
    "\n",
    "grid_s0 = GridSearchCV(Lasso(max_iter=10000), param_grid, cv=5, scoring='neg_mean_squared_error')\n",
    "grid_s0.fit(X_train_s0, y_train_s0)\n",
    "\n",
    "# Mejor valor de alpha\n",
    "print(\"Best alpha: \", grid.best_params_['alpha'])\n",
    "print(\"Best alpha sin considerar los 0: \", grid_s0.best_params_['alpha'])\n",
    "\n",
    "# Ajusta el modelo Lasso con el mejor valor de alpha\n",
    "lasso_best = Lasso(alpha=grid.best_params_['alpha'], max_iter=10000)\n",
    "lasso_best.fit(X_train, y_train)\n",
    "\n",
    "lasso_best_s0 = Lasso(alpha=grid_s0.best_params_['alpha'], max_iter=10000)\n",
    "lasso_best_s0.fit(X_train_s0, y_train_s0)\n",
    "\n",
    "# Haz predicciones y calcula el MSE\n",
    "y_pred_best = lasso_best.predict(X_test)\n",
    "mse_best = mean_squared_error(y_test, y_pred_best)\n",
    "print(\"Mean Squared Error with best alpha: \", mse_best)\n",
    "\n",
    "y_pred_best_s0 = lasso_best_s0.predict(X_test_s0)\n",
    "mse_best_s0 = mean_squared_error(y_test_s0, y_pred_best_s0)\n",
    "print(\"Mean Squared Error with best alpha sin considerar los 0: \", mse_best_s0)\n",
    "\n",
    "#Predigo el test\n",
    "lasso_best.fit(X, y)\n",
    "y_test_kaggle = lasso_best.predict(X_test_kaggle)\n",
    "predicciones = pd.DataFrame({'id':test_df['id'],'price':y_test_kaggle})\n",
    "predicciones.to_csv('Predicción3.csv', index= False)\n",
    "\n",
    "lasso_best_s0.fit(X_sin_0, y_sin_0)\n",
    "y_test_kaggle = lasso_best_s0.predict(X_test_kaggle)\n",
    "predicciones = pd.DataFrame({'id':test_df['id'],'price':y_test_kaggle})\n",
    "predicciones.to_csv('Predicción4.csv', index= False)"
   ]
  },
  {
   "cell_type": "markdown",
   "metadata": {},
   "source": [
    "##### Adaptative Lasso"
   ]
  },
  {
   "cell_type": "markdown",
   "metadata": {},
   "source": [
    "A priori, sabemos que la regularización de Lasso funciona mejor para problemas con alta dimensionalidad pues esta regularización tiene más dipersión. Específicamente, se utilizará Adaptative Lasso pues se encuentran los coeficientes más rápidos."
   ]
  },
  {
   "cell_type": "code",
   "execution_count": 20,
   "metadata": {},
   "outputs": [
    {
     "name": "stdout",
     "output_type": "stream",
     "text": [
      "Best alpha:  1.0\n",
      "Best alpha sin considerar los 0:  1.0\n",
      "Mean Squared Error with Adaptive Lasso:  81379421682.60559\n",
      "Mean Squared Error with Adaptive Lasso sin considerar los 0:  81014447130.22498\n"
     ]
    }
   ],
   "source": [
    "X = new_train_df[atributos]\n",
    "y = new_train_df['price']\n",
    "\n",
    "X_sin_0 = new_train_df_sin_0[atributos]\n",
    "y_sin_0 = new_train_df_sin_0['price']\n",
    "\n",
    "X_test_kaggle = test_df[atributos]\n",
    "\n",
    "# Escala las características\n",
    "scaler = StandardScaler()\n",
    "X_processed = pd.DataFrame(scaler.fit_transform(X), columns=X.columns)\n",
    "X_sin_0_processed = pd.DataFrame(scaler.fit_transform(X_sin_0), columns=X_sin_0.columns)\n",
    "X_test_processed = pd.DataFrame(scaler.fit_transform(X_test_kaggle), columns=X_test_kaggle.columns)\n",
    "\n",
    "# Divide los datos en conjuntos de entrenamiento y prueba\n",
    "\n",
    "X = X_processed.copy()\n",
    "y = new_train_df['price']\n",
    "X_train, X_test, y_train, y_test = train_test_split(X, y, test_size=0.2, random_state=0)\n",
    "\n",
    "X_sin_0 = X_sin_0_processed.copy()\n",
    "y_sin_0 = new_train_df_sin_0['price']\n",
    "X_train_s0, X_test_s0, y_train_s0, y_test_s0 = train_test_split(X_sin_0, y_sin_0, test_size=0.2, random_state=0)\n",
    "\n",
    "X_test_kaggle = X_test_processed.copy()\n",
    "\n",
    "# Subclase para implementar Adaptive Lasso\n",
    "class AdaptiveLasso(Lasso):\n",
    "    def __init__(self, alpha=1.0, gamma=1.0, max_iter=1000, tol=1e-4):\n",
    "        super().__init__(alpha=alpha, max_iter=max_iter, tol=tol)\n",
    "        self.gamma = gamma\n",
    "\n",
    "    def fit(self, X, y):\n",
    "        super().fit(X, y)\n",
    "        self.coef_ = self._adaptive_weights(self.coef_)\n",
    "        return super().fit(X, y)\n",
    "\n",
    "    def _adaptive_weights(self, coef_):\n",
    "        weights = 1 / (np.abs(coef_) ** self.gamma + 1e-8)\n",
    "        return weights\n",
    "\n",
    "# Define el rango de valores para alpha\n",
    "param_grid = {'alpha': np.logspace(-4, 0, 50)}\n",
    "\n",
    "# Realiza una búsqueda en la cuadrícula con validación cruzada utilizando Lasso estándar\n",
    "grid = GridSearchCV(Lasso(max_iter=1000), param_grid, cv=5, scoring='neg_mean_squared_error')\n",
    "grid.fit(X_train, y_train)\n",
    "\n",
    "grid_s0 = GridSearchCV(Lasso(max_iter=1000), param_grid, cv=5, scoring='neg_mean_squared_error')\n",
    "grid_s0.fit(X_train_s0, y_train_s0)\n",
    "\n",
    "# Mejor valor de alpha\n",
    "best_alpha = grid.best_params_['alpha']\n",
    "print(\"Best alpha: \", best_alpha)\n",
    "\n",
    "best_alpha_s0 = grid_s0.best_params_['alpha']\n",
    "print(\"Best alpha sin considerar los 0: \", best_alpha_s0)\n",
    "\n",
    "# Crea una instancia de Adaptive Lasso con el mejor valor de alpha\n",
    "adaptive_lasso = AdaptiveLasso(alpha=best_alpha, gamma=1.0, max_iter=10000)\n",
    "adaptive_lasso_s0 = AdaptiveLasso(alpha=best_alpha_s0, gamma=1.0, max_iter=10000)\n",
    "\n",
    "\n",
    "# Ajusta el modelo en el conjunto de entrenamiento\n",
    "adaptive_lasso.fit(X_train, y_train)\n",
    "\n",
    "adaptive_lasso_s0.fit(X_train_s0, y_train_s0)\n",
    "\n",
    "# Haz predicciones en el conjunto de prueba\n",
    "y_pred = adaptive_lasso.predict(X_test)\n",
    "# Calcula el MSE\n",
    "mse = mean_squared_error(y_test, y_pred)\n",
    "print(\"Mean Squared Error with Adaptive Lasso: \", mse)\n",
    "\n",
    "y_pred_s0 = adaptive_lasso_s0.predict(X_test_s0)\n",
    "mse_s0 = mean_squared_error(y_test_s0, y_pred_s0)\n",
    "print(\"Mean Squared Error with Adaptive Lasso sin considerar los 0: \", mse_s0)\n",
    "\n",
    "#Se predice el que tuvo mejor performance\n",
    "\n",
    "#Predigo el test\n",
    "adaptive_lasso.fit(X, y)\n",
    "y_test_kaggle = adaptive_lasso.predict(X_test_kaggle)\n",
    "predicciones = pd.DataFrame({'id':test_df['id'],'price':y_test_kaggle})\n",
    "predicciones.to_csv('Predicción5.csv', index= False)\n",
    "\n",
    "adaptive_lasso_s0.fit(X_sin_0, y_sin_0)\n",
    "y_test_kaggle = adaptive_lasso_s0.predict(X_test_kaggle)\n",
    "predicciones = pd.DataFrame({'id':test_df['id'],'price':y_test_kaggle})\n",
    "predicciones.to_csv('Predicción6.csv', index= False)"
   ]
  },
  {
   "cell_type": "markdown",
   "metadata": {},
   "source": [
    "#### Ingeniería de Atributos. Vemos que de los 3 anteriores, adaptative lasso eliminando los registros 0 da una mejor performance, así que todos los cambios que hagamos de ahora en adeltante será en esa base\n"
   ]
  },
  {
   "cell_type": "markdown",
   "metadata": {},
   "source": [
    "Es lógico pensar que a más grande sea una casa, mayor será su valor, así que podriamos sumar las columnas relacionadas al área de las distintas zonas de la casa"
   ]
  },
  {
   "cell_type": "code",
   "execution_count": 21,
   "metadata": {},
   "outputs": [
    {
     "name": "stdout",
     "output_type": "stream",
     "text": [
      "Best alpha sin considerar los 0:  0.0001\n",
      "Mean Squared Error with best alpha sin considerar los 0:  119623923986.53769\n"
     ]
    }
   ],
   "source": [
    "new_train_df_sin_0['sqft_sum'] = new_train_df_sin_0['sqft_living'] + new_train_df_sin_0['sqft_lot'] + new_train_df_sin_0['sqft_above'] + new_train_df_sin_0['sqft_basement']\n",
    "X_sin_0 = new_train_df_sin_0[['bedrooms', 'bathrooms', 'floors', 'waterfront', 'view', 'condition', 'yr_built', 'yr_renovated', 'zipcode', 'sqft_sum']]\n",
    "y_sin_0 =new_train_df_sin_0['price']\n",
    "\n",
    "X_test_kaggle = test_df.copy()\n",
    "X_test_kaggle['sqft_sum'] = X_test_kaggle['sqft_living'] + X_test_kaggle['sqft_lot'] + X_test_kaggle['sqft_above'] + X_test_kaggle['sqft_basement']\n",
    "X_test_kaggle = X_test_kaggle[['bedrooms', 'bathrooms', 'floors', 'waterfront', 'view', 'condition', 'yr_built', 'yr_renovated', 'zipcode', 'sqft_sum']]\n",
    "\n",
    "\n",
    "# Escala las características\n",
    "scaler = StandardScaler()\n",
    "X_sin_0_processed = pd.DataFrame(scaler.fit_transform(X_sin_0), columns=X_sin_0.columns)\n",
    "X_test_processed = pd.DataFrame(scaler.fit_transform(X_test_kaggle), columns=X_test_kaggle.columns)\n",
    "\n",
    "# Divide los datos en conjuntos de entrenamiento y prueba\n",
    "\n",
    "X_sin_0 = X_sin_0_processed.copy()\n",
    "X_train_s0, X_test_s0, y_train_s0, y_test_s0 = train_test_split(X_sin_0, y_sin_0, test_size=0.2, random_state=0)\n",
    "\n",
    "X_test_kaggle = X_test_processed.copy()\n",
    "\n",
    "#Ajustamos Lasso\n",
    "param_grid = {'alpha': np.logspace(-4, 0, 50)}\n",
    "\n",
    "# Realiza una búsqueda en la cuadrícula con validación cruzada\n",
    "\n",
    "grid_s0 = GridSearchCV(Lasso(max_iter=10000), param_grid, cv=5, scoring='neg_mean_squared_error')\n",
    "grid_s0.fit(X_train_s0, y_train_s0)\n",
    "\n",
    "print(\"Best alpha sin considerar los 0: \", grid_s0.best_params_['alpha'])\n",
    "\n",
    "lasso_best_s0 = Lasso(alpha=grid_s0.best_params_['alpha'], max_iter=10000)\n",
    "lasso_best_s0.fit(X_train_s0, y_train_s0)\n",
    "\n",
    "y_pred_best_s0 = lasso_best_s0.predict(X_test_s0)\n",
    "mse_best_s0 = mean_squared_error(y_test_s0, y_pred_best_s0)\n",
    "print(\"Mean Squared Error with best alpha sin considerar los 0: \", mse_best_s0)\n",
    "\n",
    "#Predigo el test\n",
    "lasso_best_s0.fit(X_sin_0, y_sin_0)\n",
    "y_test_kaggle = lasso_best_s0.predict(X_test_kaggle)\n",
    "predicciones = pd.DataFrame({'id':test_df['id'],'price':y_test_kaggle})\n",
    "predicciones.to_csv('Predicción7.csv', index= False)\n",
    "new_train_df_sin_0=new_train_df_sin_0.drop(columns=['sqft_sum'], axis=1)"
   ]
  },
  {
   "cell_type": "markdown",
   "metadata": {},
   "source": [
    "Calculemos la matriz de correlación de Pearson"
   ]
  },
  {
   "cell_type": "code",
   "execution_count": 22,
   "metadata": {},
   "outputs": [
    {
     "name": "stdout",
     "output_type": "stream",
     "text": [
      "               bedrooms     month  bathrooms  sqft_living  sqft_lot    floors  \\\n",
      "bedrooms       1.000000  0.020662   0.542806     0.602712  0.071735  0.177680   \n",
      "month          0.020662  1.000000   0.035502     0.051446 -0.009036  0.028315   \n",
      "bathrooms      0.542806  0.035502   1.000000     0.759083  0.094961  0.487894   \n",
      "sqft_living    0.602712  0.051446   0.759083     1.000000  0.186451  0.348619   \n",
      "sqft_lot       0.071735 -0.009036   0.094961     0.186451  1.000000 -0.001615   \n",
      "floors         0.177680  0.028315   0.487894     0.348619 -0.001615  1.000000   \n",
      "waterfront     0.001416 -0.000655   0.075902     0.123632  0.021091  0.017076   \n",
      "view           0.121886 -0.014222   0.209809     0.311780  0.045870  0.036962   \n",
      "condition      0.026478  0.017711  -0.119851    -0.065679  0.004380 -0.269153   \n",
      "sqft_above     0.487494  0.051881   0.682784     0.873840  0.193341  0.528864   \n",
      "sqft_basement  0.342389  0.010349   0.304732     0.448589  0.027735 -0.255777   \n",
      "yr_built       0.139375  0.017300   0.466101     0.291301  0.043308  0.461948   \n",
      "yr_renovated  -0.064685 -0.025258  -0.220395    -0.117160 -0.011043 -0.241039   \n",
      "zipcode       -0.160418 -0.016715  -0.213993    -0.221326 -0.132933 -0.066675   \n",
      "price          0.330902  0.044040   0.528211     0.706543  0.078939  0.259635   \n",
      "\n",
      "               waterfront      view  condition  sqft_above  sqft_basement  \\\n",
      "bedrooms         0.001416  0.121886   0.026478    0.487494       0.342389   \n",
      "month           -0.000655 -0.014222   0.017711    0.051881       0.010349   \n",
      "bathrooms        0.075902  0.209809  -0.119851    0.682784       0.304732   \n",
      "sqft_living      0.123632  0.311780  -0.065679    0.873840       0.448589   \n",
      "sqft_lot         0.021091  0.045870   0.004380    0.193341       0.027735   \n",
      "floors           0.017076  0.036962  -0.269153    0.528864      -0.255777   \n",
      "waterfront       1.000000  0.350851  -0.006373    0.081846       0.103599   \n",
      "view             0.350851  1.000000   0.057131    0.178836       0.311930   \n",
      "condition       -0.006373  0.057131   1.000000   -0.176367       0.189231   \n",
      "sqft_above       0.081846  0.178836  -0.176367    1.000000      -0.042553   \n",
      "sqft_basement    0.103599  0.311930   0.189231   -0.042553       1.000000   \n",
      "yr_built        -0.034634 -0.060465  -0.390286    0.410617      -0.156201   \n",
      "yr_renovated     0.033537  0.027068  -0.181543   -0.159711       0.052828   \n",
      "zipcode          0.021127  0.093285   0.043147   -0.279272       0.058555   \n",
      "price            0.242583  0.382545   0.047776    0.601621       0.345962   \n",
      "\n",
      "               yr_built  yr_renovated   zipcode     price  \n",
      "bedrooms       0.139375     -0.064685 -0.160418  0.330902  \n",
      "month          0.017300     -0.025258 -0.016715  0.044040  \n",
      "bathrooms      0.466101     -0.220395 -0.213993  0.528211  \n",
      "sqft_living    0.291301     -0.117160 -0.221326  0.706543  \n",
      "sqft_lot       0.043308     -0.011043 -0.132933  0.078939  \n",
      "floors         0.461948     -0.241039 -0.066675  0.259635  \n",
      "waterfront    -0.034634      0.033537  0.021127  0.242583  \n",
      "view          -0.060465      0.027068  0.093285  0.382545  \n",
      "condition     -0.390286     -0.181543  0.043147  0.047776  \n",
      "sqft_above     0.410617     -0.159711 -0.279272  0.601621  \n",
      "sqft_basement -0.156201      0.052828  0.058555  0.345962  \n",
      "yr_built       1.000000     -0.329907 -0.366284  0.031549  \n",
      "yr_renovated  -0.329907      1.000000  0.162572 -0.031879  \n",
      "zipcode       -0.366284      0.162572  1.000000 -0.075274  \n",
      "price          0.031549     -0.031879 -0.075274  1.000000  \n",
      "               bedrooms  month  bathrooms  sqft_living  sqft_lot    floors  \\\n",
      "bedrooms       1.000000    NaN   0.542806     0.602712       NaN       NaN   \n",
      "month               NaN    1.0        NaN          NaN       NaN       NaN   \n",
      "bathrooms      0.542806    NaN   1.000000     0.759083       NaN  0.487894   \n",
      "sqft_living    0.602712    NaN   0.759083     1.000000       NaN  0.348619   \n",
      "sqft_lot            NaN    NaN        NaN          NaN       1.0       NaN   \n",
      "floors              NaN    NaN   0.487894     0.348619       NaN  1.000000   \n",
      "waterfront          NaN    NaN        NaN          NaN       NaN       NaN   \n",
      "view                NaN    NaN        NaN     0.311780       NaN       NaN   \n",
      "condition           NaN    NaN        NaN          NaN       NaN       NaN   \n",
      "sqft_above     0.487494    NaN   0.682784     0.873840       NaN  0.528864   \n",
      "sqft_basement  0.342389    NaN   0.304732     0.448589       NaN       NaN   \n",
      "yr_built            NaN    NaN   0.466101          NaN       NaN  0.461948   \n",
      "yr_renovated        NaN    NaN        NaN          NaN       NaN       NaN   \n",
      "zipcode             NaN    NaN        NaN          NaN       NaN       NaN   \n",
      "price          0.330902    NaN   0.528211     0.706543       NaN       NaN   \n",
      "\n",
      "               waterfront      view  condition  sqft_above  sqft_basement  \\\n",
      "bedrooms              NaN       NaN        NaN    0.487494       0.342389   \n",
      "month                 NaN       NaN        NaN         NaN            NaN   \n",
      "bathrooms             NaN       NaN        NaN    0.682784       0.304732   \n",
      "sqft_living           NaN  0.311780        NaN    0.873840       0.448589   \n",
      "sqft_lot              NaN       NaN        NaN         NaN            NaN   \n",
      "floors                NaN       NaN        NaN    0.528864            NaN   \n",
      "waterfront       1.000000  0.350851        NaN         NaN            NaN   \n",
      "view             0.350851  1.000000        NaN         NaN       0.311930   \n",
      "condition             NaN       NaN   1.000000         NaN            NaN   \n",
      "sqft_above            NaN       NaN        NaN    1.000000            NaN   \n",
      "sqft_basement         NaN  0.311930        NaN         NaN       1.000000   \n",
      "yr_built              NaN       NaN  -0.390286    0.410617            NaN   \n",
      "yr_renovated          NaN       NaN        NaN         NaN            NaN   \n",
      "zipcode               NaN       NaN        NaN         NaN            NaN   \n",
      "price                 NaN  0.382545        NaN    0.601621       0.345962   \n",
      "\n",
      "               yr_built  yr_renovated   zipcode     price  \n",
      "bedrooms            NaN           NaN       NaN  0.330902  \n",
      "month               NaN           NaN       NaN       NaN  \n",
      "bathrooms      0.466101           NaN       NaN  0.528211  \n",
      "sqft_living         NaN           NaN       NaN  0.706543  \n",
      "sqft_lot            NaN           NaN       NaN       NaN  \n",
      "floors         0.461948           NaN       NaN       NaN  \n",
      "waterfront          NaN           NaN       NaN       NaN  \n",
      "view                NaN           NaN       NaN  0.382545  \n",
      "condition     -0.390286           NaN       NaN       NaN  \n",
      "sqft_above     0.410617           NaN       NaN  0.601621  \n",
      "sqft_basement       NaN           NaN       NaN  0.345962  \n",
      "yr_built       1.000000     -0.329907 -0.366284       NaN  \n",
      "yr_renovated  -0.329907      1.000000       NaN       NaN  \n",
      "zipcode       -0.366284           NaN  1.000000       NaN  \n",
      "price               NaN           NaN       NaN  1.000000  \n",
      "               bedrooms     month  bathrooms  sqft_living  sqft_lot    floors  \\\n",
      "bedrooms            NaN  0.020662        NaN          NaN  0.071735  0.177680   \n",
      "month          0.020662       NaN   0.035502     0.051446 -0.009036  0.028315   \n",
      "bathrooms           NaN  0.035502        NaN          NaN  0.094961       NaN   \n",
      "sqft_living         NaN  0.051446        NaN          NaN  0.186451       NaN   \n",
      "sqft_lot       0.071735 -0.009036   0.094961     0.186451       NaN -0.001615   \n",
      "floors         0.177680  0.028315        NaN          NaN -0.001615       NaN   \n",
      "waterfront     0.001416 -0.000655   0.075902     0.123632  0.021091  0.017076   \n",
      "view           0.121886 -0.014222   0.209809          NaN  0.045870  0.036962   \n",
      "condition      0.026478  0.017711  -0.119851    -0.065679  0.004380 -0.269153   \n",
      "sqft_above          NaN  0.051881        NaN          NaN  0.193341       NaN   \n",
      "sqft_basement       NaN  0.010349        NaN          NaN  0.027735 -0.255777   \n",
      "yr_built       0.139375  0.017300        NaN     0.291301  0.043308       NaN   \n",
      "yr_renovated  -0.064685 -0.025258  -0.220395    -0.117160 -0.011043 -0.241039   \n",
      "zipcode       -0.160418 -0.016715  -0.213993    -0.221326 -0.132933 -0.066675   \n",
      "price               NaN  0.044040        NaN          NaN  0.078939  0.259635   \n",
      "\n",
      "               waterfront      view  condition  sqft_above  sqft_basement  \\\n",
      "bedrooms         0.001416  0.121886   0.026478         NaN            NaN   \n",
      "month           -0.000655 -0.014222   0.017711    0.051881       0.010349   \n",
      "bathrooms        0.075902  0.209809  -0.119851         NaN            NaN   \n",
      "sqft_living      0.123632       NaN  -0.065679         NaN            NaN   \n",
      "sqft_lot         0.021091  0.045870   0.004380    0.193341       0.027735   \n",
      "floors           0.017076  0.036962  -0.269153         NaN      -0.255777   \n",
      "waterfront            NaN       NaN  -0.006373    0.081846       0.103599   \n",
      "view                  NaN       NaN   0.057131    0.178836            NaN   \n",
      "condition       -0.006373  0.057131        NaN   -0.176367       0.189231   \n",
      "sqft_above       0.081846  0.178836  -0.176367         NaN      -0.042553   \n",
      "sqft_basement    0.103599       NaN   0.189231   -0.042553            NaN   \n",
      "yr_built        -0.034634 -0.060465        NaN         NaN      -0.156201   \n",
      "yr_renovated     0.033537  0.027068  -0.181543   -0.159711       0.052828   \n",
      "zipcode          0.021127  0.093285   0.043147   -0.279272       0.058555   \n",
      "price            0.242583       NaN   0.047776         NaN            NaN   \n",
      "\n",
      "               yr_built  yr_renovated   zipcode     price  \n",
      "bedrooms       0.139375     -0.064685 -0.160418       NaN  \n",
      "month          0.017300     -0.025258 -0.016715  0.044040  \n",
      "bathrooms           NaN     -0.220395 -0.213993       NaN  \n",
      "sqft_living    0.291301     -0.117160 -0.221326       NaN  \n",
      "sqft_lot       0.043308     -0.011043 -0.132933  0.078939  \n",
      "floors              NaN     -0.241039 -0.066675  0.259635  \n",
      "waterfront    -0.034634      0.033537  0.021127  0.242583  \n",
      "view          -0.060465      0.027068  0.093285       NaN  \n",
      "condition           NaN     -0.181543  0.043147  0.047776  \n",
      "sqft_above          NaN     -0.159711 -0.279272       NaN  \n",
      "sqft_basement -0.156201      0.052828  0.058555       NaN  \n",
      "yr_built            NaN           NaN       NaN  0.031549  \n",
      "yr_renovated        NaN           NaN  0.162572 -0.031879  \n",
      "zipcode             NaN      0.162572       NaN -0.075274  \n",
      "price          0.031549     -0.031879 -0.075274       NaN  \n"
     ]
    }
   ],
   "source": [
    "import pandas as pd\n",
    "\n",
    "correlation_matrix = new_train_df_sin_0.corr()\n",
    "\n",
    "print(correlation_matrix)\n",
    "\n",
    "relevant_features = correlation_matrix[abs(correlation_matrix) > 0.3] \n",
    "\n",
    "print(relevant_features)\n",
    "\n",
    "no_relevant_features = correlation_matrix[abs(correlation_matrix) < 0.3] \n",
    "\n",
    "print(no_relevant_features)"
   ]
  },
  {
   "cell_type": "markdown",
   "metadata": {},
   "source": [
    "De lo anterior, notamos que las variables más relacionadas con el precio son: 'sqft_living', 'sqft_above', 'bathrooms', 'view', 'sqft_basement', 'bedrooms' (del mayor a menor). Así que ajustaremos un modelo añadiendolos 1 a 1"
   ]
  },
  {
   "cell_type": "code",
   "execution_count": 23,
   "metadata": {},
   "outputs": [
    {
     "name": "stdout",
     "output_type": "stream",
     "text": [
      "Característica añadida: sqft_living\n",
      "Best alpha sin considerar los 0:  0.0001\n",
      "Mean Squared Error with best alpha sin considerar los 0:  99174841102.18698\n",
      "Característica añadida: sqft_above\n",
      "Best alpha sin considerar los 0:  0.0001\n",
      "Mean Squared Error with best alpha sin considerar los 0:  98991073600.99344\n",
      "Característica añadida: bathrooms\n",
      "Best alpha sin considerar los 0:  0.0001\n",
      "Mean Squared Error with best alpha sin considerar los 0:  99873754551.03412\n",
      "Característica añadida: view\n",
      "Best alpha sin considerar los 0:  1.0\n",
      "Mean Squared Error with best alpha sin considerar los 0:  94237990005.70198\n",
      "Característica añadida: sqft_basement\n",
      "Best alpha sin considerar los 0:  1.0\n",
      "Mean Squared Error with best alpha sin considerar los 0:  94238185313.17017\n",
      "Característica añadida: bedrooms\n",
      "Best alpha sin considerar los 0:  0.3906939937054613\n",
      "Mean Squared Error with best alpha sin considerar los 0:  90960140693.67996\n"
     ]
    }
   ],
   "source": [
    "añadir = ['sqft_living', 'sqft_above', 'bathrooms', 'view', 'sqft_basement', 'bedrooms']\n",
    "\n",
    "i=8\n",
    "list=[]\n",
    "for atributo_a_añ in añadir:\n",
    "    \n",
    "       list.append(atributo_a_añ)\n",
    "       X_test_kaggle = test_df[list]\n",
    "\n",
    "       X_sin_0 = new_train_df_sin_0[list]\n",
    "       y_sin_0 = new_train_df_sin_0['price']\n",
    "\n",
    "       # Escala las características\n",
    "       scaler = StandardScaler()\n",
    "       X_sin_0_processed = pd.DataFrame(scaler.fit_transform(X_sin_0), columns=X_sin_0.columns)\n",
    "       X_test_processed = pd.DataFrame(scaler.fit_transform(X_test_kaggle), columns=X_test_kaggle.columns)\n",
    "\n",
    "       # Divide los datos en conjuntos de entrenamiento y prueba\n",
    "\n",
    "       X_sin_0 = X_sin_0_processed.copy()\n",
    "       X_train_s0, X_test_s0, y_train_s0, y_test_s0 = train_test_split(X_sin_0, y_sin_0, test_size=0.2, random_state=0)\n",
    "\n",
    "       X_test_kaggle = X_test_processed.copy()\n",
    "\n",
    "       #Ajustamos Lasso\n",
    "       param_grid = {'alpha': np.logspace(-4, 0, 50)}\n",
    "\n",
    "       # Realiza una búsqueda en la cuadrícula con validación cruzada\n",
    "\n",
    "       grid_s0 = GridSearchCV(Lasso(max_iter=10000), param_grid, cv=5, scoring='neg_mean_squared_error')\n",
    "       grid_s0.fit(X_train_s0, y_train_s0)\n",
    "\n",
    "       print(\"Característica añadida:\", atributo_a_añ)\n",
    "       print(\"Best alpha sin considerar los 0: \", grid_s0.best_params_['alpha'])\n",
    "\n",
    "       lasso_best_s0 = Lasso(alpha=grid_s0.best_params_['alpha'], max_iter=10000)\n",
    "       lasso_best_s0.fit(X_train_s0, y_train_s0)\n",
    "\n",
    "       y_pred_best_s0 = lasso_best_s0.predict(X_test_s0)\n",
    "       mse_best_s0 = mean_squared_error(y_test_s0, y_pred_best_s0)\n",
    "       print(\"Mean Squared Error with best alpha sin considerar los 0: \", mse_best_s0)\n",
    "\n",
    "       #Predigo el test\n",
    "\n",
    "       lasso_best_s0.fit(X_sin_0, y_sin_0)\n",
    "       y_test_kaggle = lasso_best_s0.predict(X_test_kaggle)\n",
    "       predicciones = pd.DataFrame({'id':test_df['id'],'price':y_test_kaggle})\n",
    "       predicciones.to_csv(f'Predicción{i}.csv', index= False)\n",
    "       i+=1"
   ]
  },
  {
   "cell_type": "markdown",
   "metadata": {},
   "source": [
    "Análogamente, las variables con menos importancia son 'yr_built', 'yr_renovated', 'month', 'condition', 'zipcode', 'sqft_lot', 'waterfront', 'floors' (de menos a más importancia). Así, le iremos sacando uno a uno en ese orden e iremos entrenando el modelo."
   ]
  },
  {
   "cell_type": "code",
   "execution_count": 24,
   "metadata": {},
   "outputs": [
    {
     "name": "stdout",
     "output_type": "stream",
     "text": [
      "Característica eliminada: yr_built\n",
      "Best alpha sin considerar los 0:  1.0\n",
      "Mean Squared Error with best alpha sin considerar los 0:  84074036671.00993\n",
      "Característica eliminada: yr_renovated\n",
      "Best alpha sin considerar los 0:  1.0\n",
      "Mean Squared Error with best alpha sin considerar los 0:  81155537408.87029\n",
      "Característica eliminada: condition\n",
      "Best alpha sin considerar los 0:  1.0\n",
      "Mean Squared Error with best alpha sin considerar los 0:  81667091860.59088\n",
      "Característica eliminada: zipcode\n",
      "Best alpha sin considerar los 0:  0.47148663634573895\n",
      "Mean Squared Error with best alpha sin considerar los 0:  81034063815.57048\n",
      "Característica eliminada: sqft_lot\n",
      "Best alpha sin considerar los 0:  0.6866488450042998\n",
      "Mean Squared Error with best alpha sin considerar los 0:  81045459409.43759\n",
      "Característica eliminada: waterfront\n",
      "Best alpha sin considerar los 0:  1.0\n",
      "Mean Squared Error with best alpha sin considerar los 0:  84528469425.36823\n",
      "Característica eliminada: floors\n",
      "Best alpha sin considerar los 0:  1.0\n",
      "Mean Squared Error with best alpha sin considerar los 0:  81869492382.14717\n",
      "21\n"
     ]
    }
   ],
   "source": [
    "añadir = ['yr_built', 'yr_renovated', 'condition', 'zipcode', 'sqft_lot', 'waterfront', 'floors']\n",
    "\n",
    "atributos_aux = atributos.copy()\n",
    "\n",
    "for atributo_a_el in añadir:\n",
    "    \n",
    "       atributos_aux.remove(atributo_a_el)\n",
    "       X_test_kaggle = test_df[atributos_aux]\n",
    "\n",
    "       X_sin_0 = new_train_df_sin_0[atributos_aux]\n",
    "       y_sin_0 = new_train_df_sin_0['price']\n",
    "\n",
    "       # Escala las características\n",
    "       scaler = StandardScaler()\n",
    "       X_sin_0_processed = pd.DataFrame(scaler.fit_transform(X_sin_0), columns=X_sin_0.columns)\n",
    "       X_test_processed = pd.DataFrame(scaler.fit_transform(X_test_kaggle), columns=X_test_kaggle.columns)\n",
    "\n",
    "       # Divide los datos en conjuntos de entrenamiento y prueba\n",
    "\n",
    "       X_sin_0 = X_sin_0_processed.copy()\n",
    "       X_train_s0, X_test_s0, y_train_s0, y_test_s0 = train_test_split(X_sin_0, y_sin_0, test_size=0.2, random_state=0)\n",
    "\n",
    "       X_test_kaggle = X_test_processed.copy()\n",
    "\n",
    "       #Ajustamos Lasso\n",
    "       param_grid = {'alpha': np.logspace(-4, 0, 50)}\n",
    "\n",
    "       # Realiza una búsqueda en la cuadrícula con validación cruzada\n",
    "\n",
    "       grid_s0 = GridSearchCV(Lasso(max_iter=10000), param_grid, cv=5, scoring='neg_mean_squared_error')\n",
    "       grid_s0.fit(X_train_s0, y_train_s0)\n",
    "\n",
    "       print(\"Característica eliminada:\", atributo_a_el)\n",
    "       print(\"Best alpha sin considerar los 0: \", grid_s0.best_params_['alpha'])\n",
    "\n",
    "       lasso_best_s0 = Lasso(alpha=grid_s0.best_params_['alpha'], max_iter=10000)\n",
    "       lasso_best_s0.fit(X_train_s0, y_train_s0)\n",
    "\n",
    "       y_pred_best_s0 = lasso_best_s0.predict(X_test_s0)\n",
    "       mse_best_s0 = mean_squared_error(y_test_s0, y_pred_best_s0)\n",
    "       print(\"Mean Squared Error with best alpha sin considerar los 0: \", mse_best_s0)\n",
    "\n",
    "       #Predigo el test\n",
    "\n",
    "       lasso_best_s0.fit(X_sin_0, y_sin_0)\n",
    "       y_test_kaggle = lasso_best_s0.predict(X_test_kaggle)\n",
    "       predicciones = pd.DataFrame({'id':test_df['id'],'price':y_test_kaggle})\n",
    "       predicciones.to_csv(f'Predicción{i}.csv', index= False)\n",
    "       atributos_aux.append(atributo_a_el)\n",
    "       i+=1\n",
    "\n",
    "print(i)\n"
   ]
  },
  {
   "cell_type": "markdown",
   "metadata": {},
   "source": [
    "Tambien notamos que las características que tienen mayor correlación (>0.67) son: sqft_above y sqft_living, bathroooms y sqft_living, bathrooms y sqft_above. De los pares, sacaremos el que tiene menos correlación con el precio. Es decir, sacaremos sqft_above, bathrooms y bathrooms."
   ]
  },
  {
   "cell_type": "code",
   "execution_count": 25,
   "metadata": {},
   "outputs": [
    {
     "name": "stdout",
     "output_type": "stream",
     "text": [
      "Best alpha sin considerar los 0:  1.0\n",
      "Mean Squared Error with best alpha sin considerar los 0:  79922816872.82703\n"
     ]
    }
   ],
   "source": [
    "atributos_aux = atributos.copy()\n",
    "\n",
    "atributos_aux.remove('sqft_above')\n",
    "atributos_aux.remove('bathrooms')\n",
    "X_sin_0 = new_train_df_sin_0[atributos_aux]\n",
    "y_sin_0 = new_train_df_sin_0['price']\n",
    "X_test_kaggle = test_df[atributos_aux]\n",
    "\n",
    "# Escala las características\n",
    "scaler = StandardScaler()\n",
    "X_sin_0_processed = pd.DataFrame(scaler.fit_transform(X_sin_0), columns=X_sin_0.columns)\n",
    "X_test_processed = pd.DataFrame(scaler.fit_transform(X_test_kaggle), columns=X_test_kaggle.columns)\n",
    "\n",
    "# Divide los datos en conjuntos de entrenamiento y prueba\n",
    "\n",
    "X_sin_0 = X_sin_0_processed.copy()\n",
    "X_train_s0, X_test_s0, y_train_s0, y_test_s0 = train_test_split(X_sin_0, y_sin_0, test_size=0.2, random_state=0)\n",
    "\n",
    "X_test_kaggle = X_test_processed.copy()\n",
    "\n",
    "#Ajustamos Lasso\n",
    "param_grid = {'alpha': np.logspace(-4, 0, 50)}\n",
    "\n",
    "# Realiza una búsqueda en la cuadrícula con validación cruzada\n",
    "\n",
    "grid_s0 = GridSearchCV(Lasso(max_iter=10000), param_grid, cv=5, scoring='neg_mean_squared_error')\n",
    "grid_s0.fit(X_train_s0, y_train_s0)\n",
    "\n",
    "print(\"Best alpha sin considerar los 0: \", grid_s0.best_params_['alpha'])\n",
    "\n",
    "lasso_best_s0 = Lasso(alpha=grid_s0.best_params_['alpha'], max_iter=10000)\n",
    "lasso_best_s0.fit(X_train_s0, y_train_s0)\n",
    "\n",
    "y_pred_best_s0 = lasso_best_s0.predict(X_test_s0)\n",
    "mse_best_s0 = mean_squared_error(y_test_s0, y_pred_best_s0)\n",
    "print(\"Mean Squared Error with best alpha sin considerar los 0: \", mse_best_s0)\n",
    "\n",
    "#Predigo el test\n",
    "\n",
    "lasso_best_s0.fit(X_sin_0, y_sin_0)\n",
    "y_test_kaggle = lasso_best_s0.predict(X_test_kaggle)\n",
    "predicciones = pd.DataFrame({'id':test_df['id'],'price':y_test_kaggle})\n",
    "predicciones.to_csv('Predicción23.csv', index= False)"
   ]
  },
  {
   "cell_type": "markdown",
   "metadata": {},
   "source": [
    "Selector RFE"
   ]
  },
  {
   "cell_type": "code",
   "execution_count": 26,
   "metadata": {},
   "outputs": [
    {
     "name": "stdout",
     "output_type": "stream",
     "text": [
      "Best alpha sin considerar los 0:  0.47148663634573895\n",
      "Index(['bedrooms', 'bathrooms', 'sqft_living', 'view', 'yr_built'], dtype='object')\n",
      "RFE: Mean Squared Error with best alpha sin considerar los 0:  81014211693.76732\n"
     ]
    }
   ],
   "source": [
    "from sklearn.feature_selection import RFE\n",
    "\n",
    "X_sin_0 = new_train_df_sin_0[atributos]\n",
    "y_sin_0 = new_train_df_sin_0['price']\n",
    "\n",
    "X_test_kaggle = test_df[atributos]\n",
    "\n",
    "# Escala las características\n",
    "scaler = StandardScaler()\n",
    "X_sin_0_processed = pd.DataFrame(scaler.fit_transform(X_sin_0), columns=X_sin_0.columns)\n",
    "X_test_processed = pd.DataFrame(scaler.fit_transform(X_test_kaggle), columns=X_test_kaggle.columns)\n",
    "\n",
    "# Divide los datos en conjuntos de entrenamiento y prueba\n",
    "\n",
    "X_sin_0 = X_sin_0_processed.copy()\n",
    "X_train_s0, X_test_s0, y_train_s0, y_test_s0 = train_test_split(X_sin_0, y_sin_0, test_size=0.2, random_state=0)\n",
    "\n",
    "X_test_kaggle = X_test_processed.copy()\n",
    "\n",
    "#Ajustamos Lasso\n",
    "param_grid = {'alpha': np.logspace(-4, 0, 50)}\n",
    "\n",
    "# Realiza una búsqueda en la cuadrícula con validación cruzada\n",
    "\n",
    "grid_s0 = GridSearchCV(Lasso(max_iter=10000), param_grid, cv=5, scoring='neg_mean_squared_error')\n",
    "grid_s0.fit(X_train_s0, y_train_s0)\n",
    "\n",
    "print(\"Best alpha sin considerar los 0: \", grid_s0.best_params_['alpha'])\n",
    "\n",
    "lasso_best_s0 = Lasso(alpha=grid_s0.best_params_['alpha'], max_iter=10000)\n",
    "\n",
    "# Crear el selector RFE\n",
    "selector = RFE(lasso_best_s0, n_features_to_select=5)  # Seleccionar las 5 características más importantes\n",
    "\n",
    "# Ajustar el selector a los datos\n",
    "selector = selector.fit(X_train_s0, y_train_s0)\n",
    "\n",
    "# Mostrar las características seleccionadas\n",
    "print(X_sin_0.columns[selector.support_])\n",
    "\n",
    "#Ajustamos modelo de regresión\n",
    "lasso_best_s0.fit(X_train_s0, y_train_s0)\n",
    "\n",
    "y_pred_best_s0 = lasso_best_s0.predict(X_test_s0)\n",
    "mse_best_s0 = mean_squared_error(y_test_s0, y_pred_best_s0)\n",
    "print(\"RFE: Mean Squared Error with best alpha sin considerar los 0: \", mse_best_s0)\n",
    "\n",
    "#Predigo el test\n",
    "\n",
    "lasso_best_s0.fit(X_sin_0, y_sin_0)\n",
    "y_test_kaggle = lasso_best_s0.predict(X_test_kaggle)\n",
    "predicciones = pd.DataFrame({'id':test_df['id'],'price':y_test_kaggle})\n",
    "predicciones.to_csv(f'Predicción{24}.csv', index= False)"
   ]
  },
  {
   "cell_type": "code",
   "execution_count": 27,
   "metadata": {},
   "outputs": [
    {
     "name": "stdout",
     "output_type": "stream",
     "text": [
      "3    sqft_living\n",
      "9     sqft_above\n",
      "2      bathrooms\n",
      "0       bedrooms\n",
      "5         floors\n",
      "Name: Feature, dtype: object\n",
      "Best alpha sin considerar los 0:  1.0\n",
      "Mean Squared Error with best alpha sin considerar los 0:  95988516162.94658\n"
     ]
    }
   ],
   "source": [
    "import pandas as pd\n",
    "from skrebate import ReliefF\n",
    "\n",
    "X = new_train_df[atributos]\n",
    "y = new_train_df['price']\n",
    "\n",
    "# Paso 3: Aplicar el algoritmo RELIEF\n",
    "relief = ReliefF(n_neighbors=100)  # Ajusta los parámetros según sea necesario\n",
    "relief.fit(X.values, y.values)\n",
    "\n",
    "# Paso 4: Obtener las características seleccionadas\n",
    "feature_scores = relief.feature_importances_\n",
    "feature_importance_df = pd.DataFrame({'Feature': X.columns, 'Score': feature_scores})\n",
    "feature_importance_df = feature_importance_df.sort_values(by='Score', ascending=False)\n",
    "\n",
    "# Filtrar las top N características más relevantes (por ejemplo, top 10)\n",
    "top_n = 5\n",
    "top_features = feature_importance_df['Feature'][:top_n]\n",
    "print(top_features)\n",
    "\n",
    "X = X[top_features]\n",
    "X_test_kaggle = test_df[top_features]\n",
    "\n",
    "# Escala las características\n",
    "scaler = StandardScaler()\n",
    "X_processed = pd.DataFrame(scaler.fit_transform(X), columns=X.columns)\n",
    "X_test_processed = pd.DataFrame(scaler.fit_transform(X_test_kaggle), columns=X_test_kaggle.columns)\n",
    "\n",
    "# Divide los datos en conjuntos de entrenamiento y prueba\n",
    "\n",
    "X = X_processed.copy()\n",
    "X_train, X_test, y_train, y_test = train_test_split(X, y, test_size=0.2, random_state=0)\n",
    "\n",
    "X_test_kaggle = X_test_processed.copy()\n",
    "\n",
    "#Ajustamos Lasso\n",
    "param_grid = {'alpha': np.logspace(-4, 0, 50)}\n",
    "\n",
    "# Realiza una búsqueda en la cuadrícula con validación cruzada\n",
    "\n",
    "grid = GridSearchCV(Lasso(max_iter=10000), param_grid, cv=5, scoring='neg_mean_squared_error')\n",
    "grid.fit(X_train, y_train)\n",
    "\n",
    "print(\"Best alpha sin considerar los 0: \", grid.best_params_['alpha'])\n",
    "\n",
    "lasso_best = Lasso(alpha=grid.best_params_['alpha'], max_iter=10000)\n",
    "lasso_best.fit(X_train, y_train)\n",
    "\n",
    "y_pred_best = lasso_best.predict(X_test)\n",
    "mse_best = mean_squared_error(y_test, y_pred_best)\n",
    "print(\"Mean Squared Error with best alpha sin considerar los 0: \", mse_best)\n",
    "\n",
    "#Predigo el test\n",
    "y_test_kaggle = lasso_best.predict(X_test_kaggle)\n",
    "predicciones = pd.DataFrame({'id':test_df['id'],'price':y_test_kaggle})\n",
    "predicciones.to_csv('Predicción25.csv', index= False)"
   ]
  },
  {
   "cell_type": "markdown",
   "metadata": {},
   "source": [
    "#### Información Mutua\n"
   ]
  },
  {
   "cell_type": "code",
   "execution_count": 28,
   "metadata": {},
   "outputs": [
    {
     "name": "stdout",
     "output_type": "stream",
     "text": [
      "               bedrooms     month bathrooms sqft_living  sqft_lot    floors waterfront      view condition sqft_above sqft_basement  yr_built yr_renovated   zipcode\n",
      "bedrooms       1.290588         0  0.187069    0.313864  0.072703  0.026429          0   0.01939  0.006465   0.198027       0.08154    0.0642     0.057875  0.070367\n",
      "month          0.007878  1.015832  0.002946     0.02943         0  0.026303          0         0         0          0             0  0.008246            0  0.016996\n",
      "bathrooms      0.209502  0.000403  2.207855    0.491696  0.050971   0.27048    0.00023  0.022605  0.046551   0.386877      0.137032   0.30329     0.093881  0.138532\n",
      "sqft_living    0.320578  0.020417  0.483301    5.690066  0.141051  0.146787    0.01329  0.052288  0.017492    3.14837      0.315264  0.114023     0.006542  0.094726\n",
      "sqft_lot       0.076681  0.000635  0.058587    0.139393  6.377817   0.11931   0.013196  0.017495  0.034902   0.136964      0.032222  0.325508     0.031757  0.467224\n",
      "floors         0.044382   0.00229  0.240991     0.14974  0.116805  1.086757          0  0.008816   0.06748   0.298942      0.054608  0.382218     0.102563  0.139256\n",
      "waterfront     0.024814  0.003086         0           0  0.019362         0    0.04449  0.018195  0.009006          0             0  0.019376            0         0\n",
      "view           0.016391         0  0.017274    0.028048  0.004654   0.02088   0.037956  0.448078         0   0.029439      0.063359  0.003027     0.024589  0.042875\n",
      "condition      0.008197  0.020339   0.06689     0.02582  0.034889  0.054778   0.003882  0.006143  0.898709   0.038418       0.00636  0.169146     0.175317  0.081535\n",
      "sqft_above     0.216249         0  0.386881    3.152559  0.127766  0.295856   0.009086  0.017086  0.044016   5.554239      0.121819  0.189625     0.009768  0.153917\n",
      "sqft_basement  0.099042         0  0.135826    0.314384  0.036738  0.093854   0.000469  0.049327  0.006413   0.136303        2.6034  0.075636     0.007218  0.067276\n",
      "yr_built       0.070285         0  0.290056    0.121444  0.325321  0.374985   0.005245  0.007261  0.160451   0.189723      0.091159   4.57796     1.404931  0.478569\n",
      "yr_renovated   0.039902         0  0.107761    0.014934  0.032284  0.120467   0.004372         0  0.148482   0.011645        0.0148   1.39293     2.068894   0.10547\n",
      "zipcode        0.067056         0  0.123667    0.099049  0.467314  0.151943   0.016425  0.056836  0.058532   0.147513      0.075622  0.478458      0.10933  4.148219\n",
      "   Característica  Información_Mutua\n",
      "3     sqft_living           0.350748\n",
      "13        zipcode           0.324887\n",
      "9      sqft_above           0.270441\n",
      "2       bathrooms           0.195501\n",
      "5          floors           0.074343\n",
      "11       yr_built           0.066539\n",
      "0        bedrooms           0.065730\n",
      "4        sqft_lot           0.063261\n",
      "10  sqft_basement           0.053149\n",
      "7            view           0.045252\n",
      "8       condition           0.011711\n",
      "6      waterfront           0.009755\n",
      "1           month           0.000000\n",
      "12   yr_renovated           0.000000\n",
      "3       sqft_living\n",
      "13          zipcode\n",
      "9        sqft_above\n",
      "2         bathrooms\n",
      "5            floors\n",
      "11         yr_built\n",
      "0          bedrooms\n",
      "4          sqft_lot\n",
      "10    sqft_basement\n",
      "Name: Característica, dtype: object\n",
      "Best alpha sin considerar los 0:  1.0\n",
      "Mean Squared Error with best alpha sin considerar los 0:  88597314969.96922\n"
     ]
    }
   ],
   "source": [
    "import pandas as pd\n",
    "from sklearn.feature_selection import mutual_info_regression\n",
    "\n",
    "def calculate_mutual_info(df, features):\n",
    "    mutual_info_matrix = pd.DataFrame(index=features, columns=features)\n",
    "    for feature1 in features:\n",
    "        for feature2 in features:\n",
    "            mi = mutual_info_regression(df[[feature1]], df[feature2])\n",
    "            mutual_info_matrix.loc[feature1, feature2] = mi[0]\n",
    "    return mutual_info_matrix\n",
    "\n",
    "X_sin_0 = new_train_df_sin_0[atributos]\n",
    "y_sin_0 = new_train_df_sin_0['price']\n",
    "\n",
    "X_test_kaggle = test_df[atributos]\n",
    "\n",
    "# Escala las características\n",
    "scaler = StandardScaler()\n",
    "X_sin_0_processed = pd.DataFrame(scaler.fit_transform(X_sin_0), columns=X_sin_0.columns)\n",
    "X_test_processed = pd.DataFrame(scaler.fit_transform(X_test_kaggle), columns=X_test_kaggle.columns)\n",
    "\n",
    "# Divide los datos en conjuntos de entrenamiento y prueba\n",
    "\n",
    "X_sin_0 = X_sin_0_processed.copy()\n",
    "X_train_s0, X_test_s0, y_train_s0, y_test_s0 = train_test_split(X_sin_0, y_sin_0, test_size=0.2, random_state=0)\n",
    "\n",
    "X_test_kaggle = X_test_processed.copy()\n",
    "\n",
    "# Calcular la matriz de información mutua\n",
    "mutual_info_matrix = calculate_mutual_info(X_train_s0, atributos)\n",
    "\n",
    "\n",
    "# Ajustar las opciones de visualización de pandas\n",
    "pd.set_option('display.max_columns', None)  # Mostrar todas las columnas\n",
    "pd.set_option('display.expand_frame_repr', False)  # No cortar las columnas en líneas nuevas\n",
    "pd.set_option('display.max_colwidth', None)  # No truncar el contenido de las columnas\n",
    "\n",
    "# Mostrar la matriz de información mutua\n",
    "print(mutual_info_matrix)\n",
    "\n",
    "# Calcular la información mutua\n",
    "mi = mutual_info_regression(X_train_s0, y_train_s0)\n",
    "\n",
    "# Crear un DataFrame con las características y sus puntajes de información mutua\n",
    "mi_df = pd.DataFrame({'Característica': X_train_s0.columns, 'Información_Mutua': mi})\n",
    "mi_df = mi_df.sort_values(by='Información_Mutua', ascending=False)\n",
    "\n",
    "print(mi_df)\n",
    "\n",
    "# Filtrar las características con mayor información mutua (umbral determinado por ti)\n",
    "umbral = 0.05 \n",
    "caracteristicas_filtradas = mi_df[mi_df['Información_Mutua'] > umbral]['Característica']\n",
    "print(caracteristicas_filtradas)\n",
    "\n",
    "X_sin_0 = X_sin_0[caracteristicas_filtradas]\n",
    "X_test_kaggle = X_test_kaggle[caracteristicas_filtradas]\n",
    "\n",
    "X_train_s0, X_test_s0, y_train_s0, y_test_s0 = train_test_split(X_sin_0, y_sin_0, test_size=0.2, random_state=0)\n",
    "\n",
    "#Ajustamos Lasso\n",
    "param_grid = {'alpha': np.logspace(-4, 0, 50)}\n",
    "\n",
    "# Realiza una búsqueda en la cuadrícula con validación cruzada\n",
    "\n",
    "grid_s0 = GridSearchCV(Lasso(max_iter=10000), param_grid, cv=5, scoring='neg_mean_squared_error')\n",
    "grid_s0.fit(X_train_s0, y_train_s0)\n",
    "\n",
    "print(\"Best alpha sin considerar los 0: \", grid_s0.best_params_['alpha'])\n",
    "\n",
    "lasso_best_s0 = Lasso(alpha=grid_s0.best_params_['alpha'], max_iter=10000)\n",
    "\n",
    "#Ajustamos modelo de regresión\n",
    "lasso_best_s0.fit(X_train_s0, y_train_s0)\n",
    "\n",
    "y_pred_best_s0 = lasso_best_s0.predict(X_test_s0)\n",
    "mse_best_s0 = mean_squared_error(y_test_s0, y_pred_best_s0)\n",
    "print(\"Mean Squared Error with best alpha sin considerar los 0: \", mse_best_s0)\n",
    "\n",
    "#Predigo el test\n",
    "\n",
    "lasso_best_s0.fit(X_sin_0, y_sin_0)\n",
    "y_test_kaggle = lasso_best_s0.predict(X_test_kaggle)\n",
    "predicciones = pd.DataFrame({'id':test_df['id'],'price':y_test_kaggle})\n",
    "predicciones.to_csv('Predicción26.csv', index= False)\n"
   ]
  },
  {
   "cell_type": "markdown",
   "metadata": {},
   "source": [
    "Relieff"
   ]
  },
  {
   "cell_type": "code",
   "execution_count": 29,
   "metadata": {},
   "outputs": [
    {
     "name": "stdout",
     "output_type": "stream",
     "text": [
      "3    sqft_living\n",
      "9     sqft_above\n",
      "0       bedrooms\n",
      "2      bathrooms\n",
      "5         floors\n",
      "Name: Feature, dtype: object\n",
      "Best alpha sin considerar los 0:  0.0001\n",
      "Mean Squared Error with best alpha sin considerar los 0:  95238013412.65758\n"
     ]
    }
   ],
   "source": [
    "import pandas as pd\n",
    "from skrebate import ReliefF\n",
    "\n",
    "X_sin_0 = new_train_df_sin_0[atributos]\n",
    "y_sin_0 = new_train_df_sin_0['price']\n",
    "\n",
    "X_test_kaggle = test_df[atributos]\n",
    "\n",
    "# Escala las características\n",
    "scaler = StandardScaler()\n",
    "X_sin_0_processed = pd.DataFrame(scaler.fit_transform(X_sin_0), columns=X_sin_0.columns)\n",
    "X_test_processed = pd.DataFrame(scaler.fit_transform(X_test_kaggle), columns=X_test_kaggle.columns)\n",
    "\n",
    "X_sin_0 = X_sin_0_processed.copy()\n",
    "X_test_kaggle = X_test_processed.copy()\n",
    "\n",
    "X_train_s0, X_test_s0, y_train_s0, y_test_s0 = train_test_split(X_sin_0, y_sin_0, test_size=0.2, random_state=0)\n",
    "\n",
    "#Aplicar el algoritmo RELIEF\n",
    "relief = ReliefF(n_neighbors=100)\n",
    "relief.fit(X_train_s0.values, y_train_s0.values)\n",
    "\n",
    "#Obtener las características seleccionadas\n",
    "feature_scores = relief.feature_importances_\n",
    "feature_importance_df = pd.DataFrame({'Feature': X_train_s0.columns, 'Score': feature_scores})\n",
    "feature_importance_df = feature_importance_df.sort_values(by='Score', ascending=False)\n",
    "\n",
    "# Filtrar las top 5 características más relevantes\n",
    "top_n = 5\n",
    "top_features = feature_importance_df['Feature'][:top_n]\n",
    "print(top_features)\n",
    "\n",
    "X_sin_0 = X_sin_0[top_features]\n",
    "X_test_kaggle = X_test_kaggle[top_features]\n",
    "\n",
    "X_train_s0, X_test_s0, y_train_s0, y_test_s0 = train_test_split(X_sin_0, y_sin_0, test_size=0.2, random_state=0)\n",
    "\n",
    "#Ajustamos Lasso\n",
    "param_grid = {'alpha': np.logspace(-4, 0, 50)}\n",
    "\n",
    "# Realiza una búsqueda en la cuadrícula con validación cruzada\n",
    "\n",
    "grid = GridSearchCV(Lasso(max_iter=10000), param_grid, cv=5, scoring='neg_mean_squared_error')\n",
    "grid.fit(X_train_s0, y_train_s0)\n",
    "\n",
    "print(\"Best alpha sin considerar los 0: \", grid.best_params_['alpha'])\n",
    "\n",
    "lasso_best = Lasso(alpha=grid.best_params_['alpha'], max_iter=10000)\n",
    "lasso_best.fit(X_train_s0, y_train_s0)\n",
    "\n",
    "y_pred_best = lasso_best.predict(X_test_s0)\n",
    "mse_best = mean_squared_error(y_test_s0, y_pred_best)\n",
    "print(\"Mean Squared Error with best alpha sin considerar los 0: \", mse_best)\n",
    "\n",
    "#Predigo el test\n",
    "lasso_best.fit(X_sin_0, y_sin_0)\n",
    "y_test_kaggle = lasso_best.predict(X_test_kaggle)\n",
    "predicciones = pd.DataFrame({'id':test_df['id'],'price':y_test_kaggle})\n",
    "predicciones.to_csv('Predicción27.csv', index= False)"
   ]
  },
  {
   "cell_type": "markdown",
   "metadata": {},
   "source": [
    "Tablas:"
   ]
  },
  {
   "cell_type": "code",
   "execution_count": 31,
   "metadata": {},
   "outputs": [
    {
     "name": "stdout",
     "output_type": "stream",
     "text": [
      "El Top 3 del MSE de los modelos sin ing. de atributos es: \n",
      "+------------------+-----------------------+-------------------+\n",
      "|      Modelo      | Tiene los registros 0 |        MSE        |\n",
      "+------------------+-----------------------+-------------------+\n",
      "| Regresión Lineal |          Sí           | 81378887074.2281  |\n",
      "|      Lasso       |          No           | 81014211693.76732 |\n",
      "| Adaptative Lasso |          No           | 81014447130.22498 |\n",
      "+------------------+-----------------------+-------------------+\n",
      "El Top 3 utilizando el mejor modelo anterior haciendo ingeniería de atrbiutos es: \n",
      "+--------+-----------------------+------------------------+-------------------+\n",
      "| Modelo | Tiene los registros 0 |        Eliminar        |        MSE        |\n",
      "+--------+-----------------------+------------------------+-------------------+\n",
      "| Lasso  |          No           |        zipcode         | 81034063815.57048 |\n",
      "| Lasso  |          No           | bathrooms y sqft_above | 79922816872.82703 |\n",
      "| Lasso  |          No           |       según RFE        | 81014211693.76732 |\n",
      "+--------+-----------------------+------------------------+-------------------+\n"
     ]
    }
   ],
   "source": [
    "from tabulate import tabulate\n",
    "print('El Top 3 del MSE de los modelos sin ing. de atributos es: ')\n",
    "\n",
    "Top_3 = {\n",
    "    'Modelo': ['Regresión Lineal', 'Lasso', 'Adaptative Lasso'],\n",
    "    'Tiene los registros 0': ['Sí', 'No', 'No'],\n",
    "    'MSE': [81378887074.2281, 81014211693.76732, 81014447130.22498]\n",
    "}\n",
    "\n",
    "# Convertir el diccionario en un DataFrame\n",
    "df = pd.DataFrame(Top_3)\n",
    "\n",
    "# Mostrar el DataFrame\n",
    "print(tabulate(df, headers='keys', tablefmt='pretty', showindex=False, stralign='center', numalign='center'))\n",
    "\n",
    "print('El Top 3 utilizando el mejor modelo anterior haciendo ingeniería de atrbiutos es: ')\n",
    "\n",
    "Top_3 = {\n",
    "    'Modelo': ['Lasso', 'Lasso', 'Lasso'],\n",
    "     'Tiene los registros 0': ['No', 'No', 'No'],\n",
    "    \"Eliminar\": ['zipcode', 'bathrooms y sqft_above', \"según RFE\"],\n",
    "    'MSE': [81034063815.57048, 79922816872.82703, 81014211693.76732]\n",
    "}\n",
    "\n",
    "# Convertir el diccionario en un DataFrame\n",
    "df = pd.DataFrame(Top_3)\n",
    "\n",
    "# Mostrar el DataFrame\n",
    "print(tabulate(df, headers='keys', tablefmt='pretty', showindex=False, stralign='center', numalign='center'))"
   ]
  }
 ],
 "metadata": {
  "kernelspec": {
   "display_name": "Python 3",
   "language": "python",
   "name": "python3"
  },
  "language_info": {
   "codemirror_mode": {
    "name": "ipython",
    "version": 3
   },
   "file_extension": ".py",
   "mimetype": "text/x-python",
   "name": "python",
   "nbconvert_exporter": "python",
   "pygments_lexer": "ipython3",
   "version": "3.11.3"
  }
 },
 "nbformat": 4,
 "nbformat_minor": 2
}
